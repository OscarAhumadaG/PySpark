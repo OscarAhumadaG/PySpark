{
 "cells": [
  {
   "cell_type": "markdown",
   "metadata": {
    "application/vnd.databricks.v1+cell": {
     "cellMetadata": {},
     "inputWidgets": {},
     "nuid": "24d5973b-2316-4ab7-813a-ad8d02163b4d",
     "showTitle": false,
     "title": ""
    }
   },
   "source": [
    "# Carga de datos utilizando PySpark"
   ]
  },
  {
   "cell_type": "code",
   "execution_count": 6,
   "metadata": {},
   "outputs": [],
   "source": [
    "import os\n",
    "import shutil"
   ]
  },
  {
   "cell_type": "markdown",
   "metadata": {
    "application/vnd.databricks.v1+cell": {
     "cellMetadata": {},
     "inputWidgets": {},
     "nuid": "e0bd1fbc-f596-4e9f-b440-ebd1d970abc9",
     "showTitle": false,
     "title": ""
    }
   },
   "source": [
    "## dbutils\n",
    "biblioteca de utilidades proporcionada por Databricks que facilita la interacción y el acceso a diversos servicios y recursos dentro del entorno de Databricks."
   ]
  },
  {
   "cell_type": "markdown",
   "metadata": {
    "application/vnd.databricks.v1+cell": {
     "cellMetadata": {},
     "inputWidgets": {},
     "nuid": "c19c347c-c79e-497a-bba7-4e3ad856180f",
     "showTitle": false,
     "title": ""
    }
   },
   "source": [
    "### dbutils.fs\n",
    "Proporciona funciones para interactuar con el sistema de archivos de Databricks."
   ]
  },
  {
   "cell_type": "code",
   "execution_count": null,
   "metadata": {
    "application/vnd.databricks.v1+cell": {
     "cellMetadata": {
      "byteLimit": 2048000,
      "rowLimit": 10000
     },
     "inputWidgets": {},
     "nuid": "0bea97c9-f82f-418e-a28f-2a912bb117cb",
     "showTitle": false,
     "title": ""
    }
   },
   "outputs": [],
   "source": [
    "path = '/FileStore/tables'"
   ]
  },
  {
   "cell_type": "code",
   "execution_count": 4,
   "metadata": {},
   "outputs": [],
   "source": [
    "\n",
    "path = 'data/'\n",
    "\n",
    "# Create the directory if it doesn't exist\n",
    "if not os.path.exists(path):\n",
    "    os.makedirs(path)\n",
    "\n",
    "# List contents of the directory\n",
    "files = os.listdir(path)"
   ]
  },
  {
   "cell_type": "code",
   "execution_count": null,
   "metadata": {
    "application/vnd.databricks.v1+cell": {
     "cellMetadata": {
      "byteLimit": 2048000,
      "rowLimit": 10000
     },
     "inputWidgets": {},
     "nuid": "859f09f4-2b71-4c7a-9a42-2588b94f098a",
     "showTitle": true,
     "title": "Listar archivos"
    }
   },
   "outputs": [
    {
     "name": "stdout",
     "output_type": "stream",
     "text": [
      "Out[4]: [FileInfo(path='dbfs:/FileStore/tables/Muestra___Supertienda.csv', name='Muestra___Supertienda.csv', size=2196839, modificationTime=1672253282000),\n",
      " FileInfo(path='dbfs:/FileStore/tables/Sample___Superstore.xlsx', name='Sample___Superstore.xlsx', size=1215519, modificationTime=1680137551000),\n",
      " FileInfo(path='dbfs:/FileStore/tables/Sample___Superstore___Orders.csv', name='Sample___Superstore___Orders.csv', size=2348309, modificationTime=1680137828000),\n",
      " FileInfo(path='dbfs:/FileStore/tables/bronce/', name='bronce/', size=0, modificationTime=0),\n",
      " FileInfo(path='dbfs:/FileStore/tables/data-1.csv', name='data-1.csv', size=2288519, modificationTime=1687378596000),\n",
      " FileInfo(path='dbfs:/FileStore/tables/data-2.csv', name='data-2.csv', size=2288519, modificationTime=1687378611000),\n",
      " FileInfo(path='dbfs:/FileStore/tables/data-3.csv', name='data-3.csv', size=2288519, modificationTime=1687395385000),\n",
      " FileInfo(path='dbfs:/FileStore/tables/data.csv', name='data.csv', size=2288519, modificationTime=1687216897000),\n",
      " FileInfo(path='dbfs:/FileStore/tables/gold/', name='gold/', size=0, modificationTime=0),\n",
      " FileInfo(path='dbfs:/FileStore/tables/heart.csv', name='heart.csv', size=11328, modificationTime=1676047414000),\n",
      " FileInfo(path='dbfs:/FileStore/tables/silver/', name='silver/', size=0, modificationTime=0)]"
     ]
    }
   ],
   "source": [
    "dbutils.fs.ls(path)"
   ]
  },
  {
   "cell_type": "code",
   "execution_count": null,
   "metadata": {
    "application/vnd.databricks.v1+cell": {
     "cellMetadata": {
      "byteLimit": 2048000,
      "rowLimit": 10000
     },
     "inputWidgets": {},
     "nuid": "edf27c21-f1e0-4ff4-bc68-262d17cf62cd",
     "showTitle": true,
     "title": "Crear carpetas"
    }
   },
   "outputs": [
    {
     "name": "stdout",
     "output_type": "stream",
     "text": [
      "Out[3]: True"
     ]
    }
   ],
   "source": [
    "dbutils.fs.mkdirs(path + \"/bronce\")\n",
    "dbutils.fs.mkdirs(path + \"/silver\")\n",
    "dbutils.fs.mkdirs(path + \"/gold\")"
   ]
  },
  {
   "cell_type": "code",
   "execution_count": 5,
   "metadata": {},
   "outputs": [],
   "source": [
    "# Create directories if they don't exist\n",
    "os.makedirs(os.path.join(path, 'bronce'), exist_ok=True)\n",
    "os.makedirs(os.path.join(path, 'silver'), exist_ok=True)\n",
    "os.makedirs(os.path.join(path, 'gold'), exist_ok=True)"
   ]
  },
  {
   "cell_type": "code",
   "execution_count": null,
   "metadata": {
    "application/vnd.databricks.v1+cell": {
     "cellMetadata": {
      "byteLimit": 2048000,
      "rowLimit": 10000
     },
     "inputWidgets": {},
     "nuid": "2bf84e6b-c6bd-48f4-92d9-dcba5bdaa7a8",
     "showTitle": true,
     "title": "Copiar archivos"
    }
   },
   "outputs": [
    {
     "name": "stdout",
     "output_type": "stream",
     "text": [
      "Out[5]: True"
     ]
    }
   ],
   "source": [
    "src = path + '/data.csv'\n",
    "dest = path + '/bronce/data.csv'\n",
    "dbutils.fs.cp(src, dest)"
   ]
  },
  {
   "cell_type": "code",
   "execution_count": 7,
   "metadata": {},
   "outputs": [
    {
     "name": "stdout",
     "output_type": "stream",
     "text": [
      "File copied from data/data.csv to data/bronce\\data.csv\n"
     ]
    }
   ],
   "source": [
    "src = os.path.join(path, 'data.csv')\n",
    "dest = os.path.join(path, 'bronce', 'data.csv')\n",
    "\n",
    "# Ensure destination directory exists\n",
    "os.makedirs(os.path.dirname(dest), exist_ok=True)\n",
    "\n",
    "# Copy the file\n",
    "try:\n",
    "    shutil.copy(src, dest)\n",
    "    print(f\"File copied from {src} to {dest}\")\n",
    "except FileNotFoundError as e:\n",
    "    print(f\"Error: {e}\")"
   ]
  },
  {
   "cell_type": "code",
   "execution_count": null,
   "metadata": {
    "application/vnd.databricks.v1+cell": {
     "cellMetadata": {
      "byteLimit": 2048000,
      "rowLimit": 10000
     },
     "inputWidgets": {},
     "nuid": "360aa736-8571-4b76-843b-955810bb4136",
     "showTitle": true,
     "title": "Muestra las primeras líneas de un archivo"
    },
    "scrolled": true
   },
   "outputs": [
    {
     "name": "stdout",
     "output_type": "stream",
     "text": [
      "[Truncated to first 65536 bytes]\n",
      "Out[7]: '\\ufeffRow ID,Order ID,Order Date,Ship Date,Ship Mode,Customer ID,Customer Name,Segment,Country,City,State,Postal Code,Region,Product ID,Category,Sub-Category,Product Name,Sales,Quantity,Discount,Profit\\r\\n1,CA-2016-152156,11/8/2016,11/11/2016,Second Class,CG-12520,Claire Gute,Consumer,United States,Henderson,Kentucky,42420,South,FUR-BO-10001798,Furniture,Bookcases,Bush Somerset Collection Bookcase,261.96,2,0,41.9136\\r\\n2,CA-2016-152156,11/8/2016,11/11/2016,Second Class,CG-12520,Claire Gute,Consumer,United States,Henderson,Kentucky,42420,South,FUR-CH-10000454,Furniture,Chairs,\"Hon Deluxe Fabric Upholstered Stacking Chairs, Rounded Back\",731.94,3,0,219.582\\r\\n3,CA-2016-138688,6/12/2016,6/16/2016,Second Class,DV-13045,Darrin Van Huff,Corporate,United States,Los Angeles,California,90036,West,OFF-LA-10000240,Office Supplies,Labels,Self-Adhesive Address Labels for Typewriters by Universal,14.62,2,0,6.8714\\r\\n4,US-2015-108966,10/11/2015,10/18/2015,Standard Class,SO-20335,Sean O\\'Donnell,Consumer,United States,Fort Lauderdale,Florida,33311,South,FUR-TA-10000577,Furniture,Tables,Bretford CR4500 Series Slim Rectangular Table,957.5775,5,0.45,-383.031\\r\\n5,US-2015-108966,10/11/2015,10/18/2015,Standard Class,SO-20335,Sean O\\'Donnell,Consumer,United States,Fort Lauderdale,Florida,33311,South,OFF-ST-10000760,Office Supplies,Storage,Eldon Fold \\'N Roll Cart System,22.368,2,0.2,2.5164\\r\\n6,CA-2014-115812,6/9/2014,6/14/2014,Standard Class,BH-11710,Brosina Hoffman,Consumer,United States,Los Angeles,California,90032,West,FUR-FU-10001487,Furniture,Furnishings,\"Eldon Expressions Wood and Plastic Desk Accessories, Cherry Wood\",48.86,7,0,14.1694\\r\\n7,CA-2014-115812,6/9/2014,6/14/2014,Standard Class,BH-11710,Brosina Hoffman,Consumer,United States,Los Angeles,California,90032,West,OFF-AR-10002833,Office Supplies,Art,Newell 322,7.28,4,0,1.9656\\r\\n8,CA-2014-115812,6/9/2014,6/14/2014,Standard Class,BH-11710,Brosina Hoffman,Consumer,United States,Los Angeles,California,90032,West,TEC-PH-10002275,Technology,Phones,Mitel 5320 IP Phone VoIP phone,907.152,6,0.2,90.7152\\r\\n9,CA-2014-115812,6/9/2014,6/14/2014,Standard Class,BH-11710,Brosina Hoffman,Consumer,United States,Los Angeles,California,90032,West,OFF-BI-10003910,Office Supplies,Binders,DXL Angle-View Binders with Locking Rings by Samsill,18.504,3,0.2,5.7825\\r\\n10,CA-2014-115812,6/9/2014,6/14/2014,Standard Class,BH-11710,Brosina Hoffman,Consumer,United States,Los Angeles,California,90032,West,OFF-AP-10002892,Office Supplies,Appliances,Belkin F5C206VTEL 6 Outlet Surge,114.9,5,0,34.47\\r\\n11,CA-2014-115812,6/9/2014,6/14/2014,Standard Class,BH-11710,Brosina Hoffman,Consumer,United States,Los Angeles,California,90032,West,FUR-TA-10001539,Furniture,Tables,Chromcraft Rectangular Conference Tables,1706.184,9,0.2,85.3092\\r\\n12,CA-2014-115812,6/9/2014,6/14/2014,Standard Class,BH-11710,Brosina Hoffman,Consumer,United States,Los Angeles,California,90032,West,TEC-PH-10002033,Technology,Phones,Konftel 250 Conference\\xa0phone\\xa0- Charcoal black,911.424,4,0.2,68.3568\\r\\n13,CA-2017-114412,4/15/2017,4/20/2017,Standard Class,AA-10480,Andrew Allen,Consumer,United States,Concord,North Carolina,28027,South,OFF-PA-10002365,Office Supplies,Paper,Xerox 1967,15.552,3,0.2,5.4432\\r\\n14,CA-2016-161389,12/5/2016,12/10/2016,Standard Class,IM-15070,Irene Maddox,Consumer,United States,Seattle,Washington,98103,West,OFF-BI-10003656,Office Supplies,Binders,Fellowes PB200 Plastic Comb Binding Machine,407.976,3,0.2,132.5922\\r\\n15,US-2015-118983,11/22/2015,11/26/2015,Standard Class,HP-14815,Harold Pawlan,Home Office,United States,Fort Worth,Texas,76106,Central,OFF-AP-10002311,Office Supplies,Appliances,\"Holmes Replacement Filter for HEPA Air Cleaner, Very Large Room, HEPA Filter\",68.81,5,0.8,-123.858\\r\\n16,US-2015-118983,11/22/2015,11/26/2015,Standard Class,HP-14815,Harold Pawlan,Home Office,United States,Fort Worth,Texas,76106,Central,OFF-BI-10000756,Office Supplies,Binders,Storex DuraTech Recycled Plastic Frosted Binders,2.544,3,0.8,-3.816\\r\\n17,CA-2014-105893,11/11/2014,11/18/2014,Standard Class,PK-19075,Pete Kriz,Consumer,United States,Madison,Wisconsin,53711,Central,OFF-ST-10004186,Office Supplies,Storage,\"Stur-D-Stor Shelving, Vertical 5-Shelf: 72\"\"H x 36\"\"W x 18 1/2\"\"D\",665.88,6,0,13.3176\\r\\n18,CA-2014-167164,5/13/2014,5/15/2014,Second Class,AG-10270,Alejandro Grove,Consumer,United States,West Jordan,Utah,84084,West,OFF-ST-10000107,Office Supplies,Storage,Fellowes Super Stor/Drawer,55.5,2,0,9.99\\r\\n19,CA-2014-143336,8/27/2014,9/1/2014,Second Class,ZD-21925,Zuschuss Donatelli,Consumer,United States,San Francisco,California,94109,West,OFF-AR-10003056,Office Supplies,Art,Newell 341,8.56,2,0,2.4824\\r\\n20,CA-2014-143336,8/27/2014,9/1/2014,Second Class,ZD-21925,Zuschuss Donatelli,Consumer,United States,San Francisco,California,94109,West,TEC-PH-10001949,Technology,Phones,Cisco SPA 501G IP Phone,213.48,3,0.2,16.011\\r\\n21,CA-2014-143336,8/27/2014,9/1/2014,Second Class,ZD-21925,Zuschuss Donatelli,Consumer,United States,San Francisco,California,94109,West,OFF-BI-10002215,Office Supplies,Binders,\"Wilson Jones Hanging View Binder, White, 1\"\"\",22.72,4,0.2,7.384\\r\\n22,CA-2016-137330,12/9/2016,12/13/2016,Standard Class,KB-16585,Ken Black,Corporate,United States,Fremont,Nebraska,68025,Central,OFF-AR-10000246,Office Supplies,Art,Newell 318,19.46,7,0,5.0596\\r\\n23,CA-2016-137330,12/9/2016,12/13/2016,Standard Class,KB-16585,Ken Black,Corporate,United States,Fremont,Nebraska,68025,Central,OFF-AP-10001492,Office Supplies,Appliances,\"Acco Six-Outlet Power Strip, 4\\' Cord Length\",60.34,7,0,15.6884\\r\\n24,US-2017-156909,7/16/2017,7/18/2017,Second Class,SF-20065,Sandra Flanagan,Consumer,United States,Philadelphia,Pennsylvania,19140,East,FUR-CH-10002774,Furniture,Chairs,\"Global Deluxe Stacking Chair, Gray\",71.372,2,0.3,-1.0196\\r\\n25,CA-2015-106320,9/25/2015,9/30/2015,Standard Class,EB-13870,Emily Burns,Consumer,United States,Orem,Utah,84057,West,FUR-TA-10000577,Furniture,Tables,Bretford CR4500 Series Slim Rectangular Table,1044.63,3,0,240.2649\\r\\n26,CA-2016-121755,1/16/2016,1/20/2016,Second Class,EH-13945,Eric Hoffmann,Consumer,United States,Los Angeles,California,90049,West,OFF-BI-10001634,Office Supplies,Binders,Wilson Jones Active Use Binders,11.648,2,0.2,4.2224\\r\\n27,CA-2016-121755,1/16/2016,1/20/2016,Second Class,EH-13945,Eric Hoffmann,Consumer,United States,Los Angeles,California,90049,West,TEC-AC-10003027,Technology,Accessories,Imation\\xa08GB Mini TravelDrive USB 2.0\\xa0Flash Drive,90.57,3,0,11.7741\\r\\n28,US-2015-150630,9/17/2015,9/21/2015,Standard Class,TB-21520,Tracy Blumstein,Consumer,United States,Philadelphia,Pennsylvania,19140,East,FUR-BO-10004834,Furniture,Bookcases,\"Riverside Palais Royal Lawyers Bookcase, Royale Cherry Finish\",3083.43,7,0.5,-1665.0522\\r\\n29,US-2015-150630,9/17/2015,9/21/2015,Standard Class,TB-21520,Tracy Blumstein,Consumer,United States,Philadelphia,Pennsylvania,19140,East,OFF-BI-10000474,Office Supplies,Binders,Avery Recycled Flexi-View Covers for Binding Systems,9.618,2,0.7,-7.0532\\r\\n30,US-2015-150630,9/17/2015,9/21/2015,Standard Class,TB-21520,Tracy Blumstein,Consumer,United States,Philadelphia,Pennsylvania,19140,East,FUR-FU-10004848,Furniture,Furnishings,\"Howard Miller 13-3/4\"\" Diameter Brushed Chrome Round Wall Clock\",124.2,3,0.2,15.525\\r\\n31,US-2015-150630,9/17/2015,9/21/2015,Standard Class,TB-21520,Tracy Blumstein,Consumer,United States,Philadelphia,Pennsylvania,19140,East,OFF-EN-10001509,Office Supplies,Envelopes,Poly String Tie Envelopes,3.264,2,0.2,1.1016\\r\\n32,US-2015-150630,9/17/2015,9/21/2015,Standard Class,TB-21520,Tracy Blumstein,Consumer,United States,Philadelphia,Pennsylvania,19140,East,OFF-AR-10004042,Office Supplies,Art,\"BOSTON Model 1800 Electric Pencil Sharpeners, Putty/Woodgrain\",86.304,6,0.2,9.7092\\r\\n33,US-2015-150630,9/17/2015,9/21/2015,Standard Class,TB-21520,Tracy Blumstein,Consumer,United States,Philadelphia,Pennsylvania,19140,East,OFF-BI-10001525,Office Supplies,Binders,\"Acco Pressboard Covers with Storage Hooks, 14 7/8\"\" x 11\"\", Executive Red\",6.858,6,0.7,-5.715\\r\\n34,US-2015-150630,9/17/2015,9/21/2015,Standard Class,TB-21520,Tracy Blumstein,Consumer,United States,Philadelphia,Pennsylvania,19140,East,OFF-AR-10001683,Office Supplies,Art,Lumber Crayons,15.76,2,0.2,3.546\\r\\n35,CA-2017-107727,10/19/2017,10/23/2017,Second Class,MA-17560,Matt Abelman,Home Office,United States,Houston,Texas,77095,Central,OFF-PA-10000249,Office Supplies,Paper,Easy-staple paper,29.472,3,0.2,9.9468\\r\\n36,CA-2016-117590,12/8/2016,12/10/2016,First Class,GH-14485,Gene Hale,Corporate,United States,Richardson,Texas,75080,Central,TEC-PH-10004977,Technology,Phones,GE 30524EE4,1097.544,7,0.2,123.4737\\r\\n37,CA-2016-117590,12/8/2016,12/10/2016,First Class,GH-14485,Gene Hale,Corporate,United States,Richardson,Texas,75080,Central,FUR-FU-10003664,Furniture,Furnishings,\"Electrix Architect\\'s Clamp-On Swing Arm Lamp, Black\",190.92,5,0.6,-147.963\\r\\n38,CA-2015-117415,12/27/2015,12/31/2015,Standard Class,SN-20710,Steve Nguyen,Home Office,United States,Houston,Texas,77041,Central,OFF-EN-10002986,Office Supplies,Envelopes,\"#10-4 1/8\"\" x 9 1/2\"\" Premium Diagonal Seam Envelopes\",113.328,9,0.2,35.415\\r\\n39,CA-2015-117415,12/27/2015,12/31/2015,Standard Class,SN-20710,Steve Nguyen,Home Office,United States,Houston,Texas,77041,Central,FUR-BO-10002545,Furniture,Bookcases,\"Atlantic Metals Mobile 3-Shelf Bookcases, Custom Colors\",532.3992,3,0.32,-46.9764\\r\\n40,CA-2015-117415,12/27/2015,12/31/2015,Standard Class,SN-20710,Steve Nguyen,Home Office,United States,Houston,Texas,77041,Central,FUR-CH-10004218,Furniture,Chairs,\"Global Fabric Manager\\'s Chair, Dark Gray\",212.058,3,0.3,-15.147\\r\\n41,CA-2015-117415,12/27/2015,12/31/2015,Standard Class,SN-20710,Steve Nguyen,Home Office,United States,Houston,Texas,77041,Central,TEC-PH-10000486,Technology,Phones,Plantronics HL10 Handset Lifter,371.168,4,0.2,41.7564\\r\\n42,CA-2017-120999,9/10/2017,9/15/2017,Standard Class,LC-16930,Linda Cazamias,Corporate,United States,Naperville,Illinois,60540,Central,TEC-PH-10004093,Technology,Phones,Panasonic Kx-TS550,147.168,4,0.2,16.5564\\r\\n43,CA-2016-101343,7/17/2016,7/22/2016,Standard Class,RA-19885,Ruben Ausman,Corporate,United States,Los Angeles,California,90049,West,OFF-ST-10003479,Office Supplies,Storage,\"Eldon Base for stackable storage shelf, platinum\",77.88,2,0,3.894\\r\\n44,CA-2017-139619,9/19/2017,9/23/2017,Standard Class,ES-14080,Erin Smith,Corporate,United States,Melbourne,Florida,32935,South,OFF-ST-10003282,Office Supplies,Storage,\"Advantus 10-Drawer Portable Organizer, Chrome Metal Frame, Smoke Drawers\",95.616,2,0.2,9.5616\\r\\n45,CA-2016-118255,3/11/2016,3/13/2016,First Class,ON-18715,Odella Nelson,Corporate,United States,Eagan,Minnesota,55122,Central,TEC-AC-10000171,Technology,Accessories,\"Verbatim 25 GB 6x Blu-ray Single Layer Recordable Disc, 25/Pack\",45.98,2,0,19.7714\\r\\n46,CA-2016-118255,3/11/2016,3/13/2016,First Class,ON-18715,Odella Nelson,Corporate,United States,Eagan,Minnesota,55122,Central,OFF-BI-10003291,Office Supplies,Binders,Wilson Jones Leather-Like Binders with DublLock Round Rings,17.46,2,0,8.2062\\r\\n47,CA-2014-146703,10/20/2014,10/25/2014,Second Class,PO-18865,Patrick O\\'Donnell,Consumer,United States,Westland,Michigan,48185,Central,OFF-ST-10001713,Office Supplies,Storage,\"Gould Plastics 9-Pocket Panel Bin, 18-3/8w x 5-1/4d x 20-1/2h, Black\",211.96,4,0,8.4784\\r\\n48,CA-2016-169194,6/20/2016,6/25/2016,Standard Class,LH-16900,Lena Hernandez,Consumer,United States,Dover,Delaware,19901,East,TEC-AC-10002167,Technology,Accessories,Imation\\xa08gb Micro Traveldrive Usb 2.0\\xa0Flash Drive,45,3,0,4.95\\r\\n49,CA-2016-169194,6/20/2016,6/25/2016,Standard Class,LH-16900,Lena Hernandez,Consumer,United States,Dover,Delaware,19901,East,TEC-PH-10003988,Technology,Phones,\"LF Elite 3D Dazzle Designer Hard Case Cover, Lf Stylus Pen and Wiper For Apple Iphone 5c Mini Lite\",21.8,2,0,6.104\\r\\n50,CA-2015-115742,4/18/2015,4/22/2015,Standard Class,DP-13000,Darren Powers,Consumer,United States,New Albany,Indiana,47150,Central,OFF-BI-10004410,Office Supplies,Binders,\"C-Line Peel & Stick Add-On Filing Pockets, 8-3/4 x 5-1/8, 10/Pack\",38.22,6,0,17.9634\\r\\n51,CA-2015-115742,4/18/2015,4/22/2015,Standard Class,DP-13000,Darren Powers,Consumer,United States,New Albany,Indiana,47150,Central,OFF-LA-10002762,Office Supplies,Labels,Avery 485,75.18,6,0,35.3346\\r\\n52,CA-2015-115742,4/18/2015,4/22/2015,Standard Class,DP-13000,Darren Powers,Consumer,United States,New Albany,Indiana,47150,Central,FUR-FU-10001706,Furniture,Furnishings,Longer-Life Soft White Bulbs,6.16,2,0,2.9568\\r\\n53,CA-2015-115742,4/18/2015,4/22/2015,Standard Class,DP-13000,Darren Powers,Consumer,United States,New Albany,Indiana,47150,Central,FUR-CH-10003061,Furniture,Chairs,\"Global Leather Task Chair, Black\",89.99,1,0,17.0981\\r\\n54,CA-2016-105816,12/11/2016,12/17/2016,Standard Class,JM-15265,Janet Molinari,Corporate,United States,New York City,New York,10024,East,OFF-FA-10000304,Office Supplies,Fasteners,Advantus Push Pins,15.26,7,0,6.2566\\r\\n55,CA-2016-105816,12/11/2016,12/17/2016,Standard Class,JM-15265,Janet Molinari,Corporate,United States,New York City,New York,10024,East,TEC-PH-10002447,Technology,Phones,AT&T CL83451 4-Handset Telephone,1029.95,5,0,298.6855\\r\\n56,CA-2016-111682,6/17/2016,6/18/2016,First Class,TB-21055,Ted Butterfield,Consumer,United States,Troy,New York,12180,East,OFF-ST-10000604,Office Supplies,Storage,Home/Office Personal File Carts,208.56,6,0,52.14\\r\\n57,CA-2016-111682,6/17/2016,6/18/2016,First Class,TB-21055,Ted Butterfield,Consumer,United States,Troy,New York,12180,East,OFF-PA-10001569,Office Supplies,Paper,Xerox 232,32.4,5,0,15.552\\r\\n58,CA-2016-111682,6/17/2016,6/18/2016,First Class,TB-21055,Ted Butterfield,Consumer,United States,Troy,New York,12180,East,FUR-CH-10003968,Furniture,Chairs,Novimex Turbo Task Chair,319.41,5,0.1,7.098\\r\\n59,CA-2016-111682,6/17/2016,6/18/2016,First Class,TB-21055,Ted Butterfield,Consumer,United States,Troy,New York,12180,East,OFF-PA-10000587,Office Supplies,Paper,\"Array Parchment Paper, Assorted Colors\",14.56,2,0,6.9888\\r\\n60,CA-2016-111682,6/17/2016,6/18/2016,First Class,TB-21055,Ted Butterfield,Consumer,United States,Troy,New York,12180,East,TEC-AC-10002167,Technology,Accessories,Imation\\xa08gb Micro Traveldrive Usb 2.0\\xa0Flash Drive,30,2,0,3.3\\r\\n61,CA-2016-111682,6/17/2016,6/18/2016,First Class,TB-21055,Ted Butterfield,Consumer,United States,Troy,New York,12180,East,OFF-BI-10001460,Office Supplies,Binders,Plastic Binding Combs,48.48,4,0.2,16.362\\r\\n62,CA-2016-111682,6/17/2016,6/18/2016,First Class,TB-21055,Ted Butterfield,Consumer,United States,Troy,New York,12180,East,OFF-AR-10001868,Office Supplies,Art,Prang Dustless Chalk Sticks,1.68,1,0,0.84\\r\\n63,CA-2015-135545,11/24/2015,11/30/2015,Standard Class,KM-16720,Kunst Miller,Consumer,United States,Los Angeles,California,90004,West,TEC-AC-10004633,Technology,Accessories,\"Verbatim 25 GB 6x Blu-ray Single Layer Recordable Disc, 3/Pack\",13.98,2,0,6.1512\\r\\n64,CA-2015-135545,11/24/2015,11/30/2015,Standard Class,KM-16720,Kunst Miller,Consumer,United States,Los Angeles,California,90004,West,OFF-BI-10001078,Office Supplies,Binders,\"Acco PRESSTEX Data Binder with Storage Hooks, Dark Blue, 14 7/8\"\" X 11\"\"\",25.824,6,0.2,9.3612\\r\\n65,CA-2015-135545,11/24/2015,11/30/2015,Standard Class,KM-16720,Kunst Miller,Consumer,United States,Los Angeles,California,90004,West,OFF-PA-10003892,Office Supplies,Paper,Xerox 1943,146.73,3,0,68.9631\\r\\n66,CA-2015-135545,11/24/2015,11/30/2015,Standard Class,KM-16720,Kunst Miller,Consumer,United States,Los Angeles,California,90004,West,FUR-FU-10000397,Furniture,Furnishings,Luxo Economy Swing Arm Lamp,79.76,4,0,22.3328\\r\\n67,US-2015-164175,4/30/2015,5/5/2015,Standard Class,PS-18970,Paul Stevenson,Home Office,United States,Chicago,Illinois,60610,Central,FUR-CH-10001146,Furniture,Chairs,\"Global Value Mid-Back Manager\\'s Chair, Gray\",213.115,5,0.3,-15.2225\\r\\n68,CA-2014-106376,12/5/2014,12/10/2014,Standard Class,BS-11590,Brendan Sweed,Corporate,United States,Gilbert,Arizona,85234,West,OFF-AR-10002671,Office Supplies,Art,\"Hunt BOSTON Model 1606 High-Volume Electric Pencil Sharpener, Beige\",1113.024,8,0.2,111.3024\\r\\n69,CA-2014-106376,12/5/2014,12/10/2014,Standard Class,BS-11590,Brendan Sweed,Corporate,United States,Gilbert,Arizona,85234,West,TEC-PH-10002726,Technology,Phones,netTALK DUO VoIP Telephone Service,167.968,4,0.2,62.988\\r\\n70,CA-2016-119823,6/4/2016,6/6/2016,First Class,KD-16270,Karen Daniels,Consumer,United States,Springfield,Virginia,22153,South,OFF-PA-10000482,Office Supplies,Paper,\"Snap-A-Way Black Print Carbonless Ruled Speed Letter, Triplicate\",75.88,2,0,35.6636\\r\\n71,CA-2016-106075,9/18/2016,9/23/2016,Standard Class,HM-14980,Henry MacAllister,Consumer,United States,New York City,New York,10009,East,OFF-BI-10004654,Office Supplies,Binders,Avery Binding System Hidden Tab Executive Style Index Sets,4.616,1,0.2,1.731\\r\\n72,CA-2017-114440,9/14/2017,9/17/2017,Second Class,TB-21520,Tracy Blumstein,Consumer,United States,Jackson,Michigan,49201,Central,OFF-PA-10004675,Office Supplies,Paper,\"Telephone Message Books with Fax/Mobile Section, 5 1/2\"\" x 3 3/16\"\"\",19.05,3,0,8.763\\r\\n73,US-2015-134026,4/26/2015,5/2/2015,Standard Class,JE-15745,Joel Eaton,Consumer,United States,Memphis,Tennessee,38109,South,FUR-CH-10000513,Furniture,Chairs,High-Back Leather Manager\\'s Chair,831.936,8,0.2,-114.3912\\r\\n74,US-2015-134026,4/26/2015,5/2/2015,Standard Class,JE-15745,Joel Eaton,Consumer,United States,Memphis,Tennessee,38109,South,FUR-FU-10003708,Furniture,Furnishings,\"Tenex Traditional Chairmats for Medium Pile Carpet, Standard Lip, 36\"\" x 48\"\"\",97.04,2,0.2,1.213\\r\\n75,US-2015-134026,4/26/2015,5/2/2015,Standard Class,JE-15745,Joel Eaton,Consumer,United States,Memphis,Tennessee,38109,South,OFF-ST-10004123,Office Supplies,Storage,Safco Industrial Wire Shelving System,72.784,1,0.2,-18.196\\r\\n76,US-2017-118038,12/9/2017,12/11/2017,First Class,KB-16600,Ken Brennan,Corporate,United States,Houston,Texas,77041,Central,OFF-BI-10004182,Office Supplies,Binders,Economy Binders,1.248,3,0.8,-1.9344\\r\\n77,US-2017-118038,12/9/2017,12/11/2017,First Class,KB-16600,Ken Brennan,Corporate,United States,Houston,Texas,77041,Central,FUR-FU-10000260,Furniture,Furnishings,\"6\"\" Cubicle Wall Clock, Black\",9.708,3,0.6,-5.8248\\r\\n78,US-2017-118038,12/9/2017,12/11/2017,First Class,KB-16600,Ken Brennan,Corporate,United States,Houston,Texas,77041,Central,OFF-ST-10000615,Office Supplies,Storage,\"SimpliFile Personal File, Black Granite, 15w x 6-15/16d x 11-1/4h\",27.24,3,0.2,2.724\\r\\n79,US-2014-147606,11/26/2014,12/1/2014,Second Class,JE-15745,Joel Eaton,Consumer,United States,Houston,Texas,77070,Central,FUR-FU-10003194,Furniture,Furnishings,\"Eldon Expressions Desk Accessory, Wood Pencil Holder, Oak\",19.3,5,0.6,-14.475\\r\\n80,CA-2016-127208,6/12/2016,6/15/2016,First Class,SC-20770,Stewart Carmichael,Corporate,United States,Decatur,Alabama,35601,South,OFF-AP-10002118,Office Supplies,Appliances,\"1.7 Cubic Foot Compact \"\"Cube\"\" Office Refrigerators\",208.16,1,0,56.2032\\r\\n81,CA-2016-127208,6/12/2016,6/15/2016,First Class,SC-20770,Stewart Carmichael,Corporate,United States,Decatur,Alabama,35601,South,OFF-BI-10002309,Office Supplies,Binders,Avery Heavy-Duty EZD  Binder With Locking Rings,16.74,3,0,8.0352\\r\\n82,CA-2014-139451,10/12/2014,10/16/2014,Standard Class,DN-13690,Duane Noonan,Consumer,United States,San Francisco,California,94122,West,OFF-AR-10002053,Office Supplies,Art,\"Premium Writing Pencils, Soft, #2 by Central Association for the Blind\",14.9,5,0,4.172\\r\\n83,CA-2014-139451,10/12/2014,10/16/2014,Standard Class,DN-13690,Duane Noonan,Consumer,United States,San Francisco,California,94122,West,OFF-ST-10002370,Office Supplies,Storage,\"Sortfiler Multipurpose Personal File Organizer, Black\",21.39,1,0,6.2031\\r\\n84,CA-2015-149734,9/3/2015,9/8/2015,Standard Class,JC-16105,Julie Creighton,Corporate,United States,Durham,North Carolina,27707,South,OFF-EN-10000927,Office Supplies,Envelopes,Jet-Pak Recycled Peel \\'N\\' Seal Padded Mailers,200.984,7,0.2,62.8075\\r\\n85,US-2017-119662,11/13/2017,11/16/2017,First Class,CS-12400,Christopher Schild,Home Office,United States,Chicago,Illinois,60623,Central,OFF-ST-10003656,Office Supplies,Storage,Safco Industrial Wire Shelving,230.376,3,0.2,-48.9549\\r\\n86,CA-2017-140088,5/28/2017,5/30/2017,Second Class,PO-18865,Patrick O\\'Donnell,Consumer,United States,Columbia,South Carolina,29203,South,FUR-CH-10000863,Furniture,Chairs,Novimex Swivel Fabric Task Chair,301.96,2,0,33.2156\\r\\n87,CA-2017-155558,10/26/2017,11/2/2017,Standard Class,PG-18895,Paul Gonzalez,Consumer,United States,Rochester,Minnesota,55901,Central,TEC-AC-10001998,Technology,Accessories,Logitech\\xa0LS21 Speaker System - PC Multimedia - 2.1-CH - Wired,19.99,1,0,6.7966\\r\\n88,CA-2017-155558,10/26/2017,11/2/2017,Standard Class,PG-18895,Paul Gonzalez,Consumer,United States,Rochester,Minnesota,55901,Central,OFF-LA-10000134,Office Supplies,Labels,Avery 511,6.16,2,0,2.9568\\r\\n89,CA-2016-159695,4/5/2016,4/10/2016,Second Class,GM-14455,Gary Mitchum,Home Office,United States,Houston,Texas,77095,Central,OFF-ST-10003442,Office Supplies,Storage,Eldon Portable Mobile Manager,158.368,7,0.2,13.8572\\r\\n90,CA-2016-109806,9/17/2016,9/22/2016,Standard Class,JS-15685,Jim Sink,Corporate,United States,Los Angeles,California,90036,West,OFF-AR-10004930,Office Supplies,Art,Turquoise Lead Holder with Pocket Clip,20.1,3,0,6.633\\r\\n91,CA-2016-109806,9/17/2016,9/22/2016,Standard Class,JS-15685,Jim Sink,Corporate,United States,Los Angeles,California,90036,West,TEC-PH-10004093,Technology,Phones,Panasonic Kx-TS550,73.584,2,0.2,8.2782\\r\\n92,CA-2016-109806,9/17/2016,9/22/2016,Standard Class,JS-15685,Jim Sink,Corporate,United States,Los Angeles,California,90036,West,OFF-PA-10000304,Office Supplies,Paper,Xerox 1995,6.48,1,0,3.1104\\r\\n93,CA-2015-149587,1/31/2015,2/5/2015,Second Class,KB-16315,Karl Braun,Consumer,United States,Minneapolis,Minnesota,55407,Central,OFF-PA-10003177,Office Supplies,Paper,Xerox 1999,12.96,2,0,6.2208\\r\\n94,CA-2015-149587,1/31/2015,2/5/2015,Second Class,KB-16315,Karl Braun,Consumer,United States,Minneapolis,Minnesota,55407,Central,FUR-FU-10003799,Furniture,Furnishings,\"Seth Thomas 13 1/2\"\" Wall Clock\",53.34,3,0,16.5354\\r\\n95,CA-2015-149587,1/31/2015,2/5/2015,Second Class,KB-16315,Karl Braun,Consumer,United States,Minneapolis,Minnesota,55407,Central,OFF-BI-10002852,Office Supplies,Binders,Ibico Standard Transparent Covers,32.96,2,0,16.1504\\r\\n96,US-2017-109484,11/6/2017,11/12/2017,Standard Class,RB-19705,Roger Barcio,Home Office,United States,Portland,Oregon,97206,West,OFF-BI-10004738,Office Supplies,Binders,Flexible Leather- Look Classic Collection Ring Binder,5.682,1,0.7,-3.788\\r\\n97,CA-2017-161018,11/9/2017,11/11/2017,Second Class,PN-18775,Parhena Norris,Home Office,United States,New York City,New York,10009,East,FUR-FU-10000629,Furniture,Furnishings,9-3/4 Diameter Round Wall Clock,96.53,7,0,40.5426\\r\\n98,CA-2017-157833,6/17/2017,6/20/2017,First Class,KD-16345,Katherine Ducich,Consumer,United States,San Francisco,California,94122,West,OFF-BI-10001721,Office Supplies,Binders,Trimflex Flexible Post Binders,51.312,3,0.2,17.9592\\r\\n99,CA-2016-149223,9/6/2016,9/11/2016,Standard Class,ER-13855,Elpida Rittenbach,Corporate,United States,Saint Paul,Minnesota,55106,Central,OFF-AP-10000358,Office Supplies,Appliances,Fellowes Basic Home/Office Series Surge Protectors,77.88,6,0,22.5852\\r\\n100,CA-2016-158568,8/29/2016,9/2/2016,Standard Class,RB-19465,Rick Bensley,Home Office,United States,Chicago,Illinois,60610,Central,OFF-PA-10003256,Office Supplies,Paper,Avery Personal Creations Heavyweight Cards,64.624,7,0.2,22.6184\\r\\n101,CA-2016-158568,8/29/2016,9/2/2016,Standard Class,RB-19465,Rick Bensley,Home Office,United States,Chicago,Illinois,60610,Central,TEC-AC-10001767,Technology,Accessories,SanDisk Ultra 64 GB MicroSDHC Class 10 Memory Card,95.976,3,0.2,-10.7973\\r\\n102,CA-2016-158568,8/29/2016,9/2/2016,Standard Class,RB-19465,Rick Bensley,Home Office,United States,Chicago,Illinois,60610,Central,OFF-BI-10002609,Office Supplies,Binders,Avery Hidden Tab Dividers for Binding Systems,1.788,3,0.8,-3.0396\\r\\n103,CA-2016-129903,12/1/2016,12/4/2016,Second Class,GZ-14470,Gary Zandusky,Consumer,United States,Rochester,Minnesota,55901,Central,OFF-PA-10004040,Office Supplies,Paper,Universal Premium White Copier/Laser Paper (20Lb. and 87 Bright),23.92,4,0,11.7208\\r\\n104,US-2015-156867,11/13/2015,11/17/2015,Standard Class,LC-16870,Lena Cacioppo,Consumer,United States,Aurora,Colorado,80013,West,TEC-AC-10001552,Technology,Accessories,Logitech K350 2.4Ghz Wireless Keyboard,238.896,6,0.2,-26.8758\\r\\n105,US-2015-156867,11/13/2015,11/17/2015,Standard Class,LC-16870,Lena Cacioppo,Consumer,United States,Aurora,Colorado,80013,West,FUR-FU-10004006,Furniture,Furnishings,\"Deflect-o DuraMat Lighweight, Studded, Beveled Mat for Low Pile Carpeting\",102.36,3,0.2,-3.8385\\r\\n106,US-2015-156867,11/13/2015,11/17/2015,Standard Class,LC-16870,Lena Cacioppo,Consumer,United State\n",
      "\n",
      "*** WARNING: max output size exceeded, skipping output. ***\n",
      "\n",
      "17,Second Class,SJ-20500,Shirley Jackson,Consumer,United States,Houston,Texas,77036,Central,OFF-AP-10002684,Office Supplies,Appliances,\"Acco 7-Outlet Masterpiece Power Center, Wihtout Fax/Phone Line Protection\",97.264,4,0.8,-243.16\\r\\n178,US-2015-101511,11/21/2015,11/23/2015,Second Class,JE-15745,Joel Eaton,Consumer,United States,Newark,Ohio,43055,East,FUR-CH-10004698,Furniture,Chairs,\"Padded Folding Chairs, Black, 4/Carton\",396.802,7,0.3,-11.3372\\r\\n179,US-2015-101511,11/21/2015,11/23/2015,Second Class,JE-15745,Joel Eaton,Consumer,United States,Newark,Ohio,43055,East,OFF-SU-10002189,Office Supplies,Supplies,Acme Rosewood Handle Letter Opener,15.88,5,0.2,-3.7715\\r\\n180,CA-2015-137225,12/15/2015,12/19/2015,Standard Class,JK-15640,Jim Kriz,Home Office,United States,New York City,New York,10009,East,OFF-AR-10001940,Office Supplies,Art,\"Sanford Colorific Eraseable Coloring Pencils, 12 Count\",3.28,1,0,1.4104\\r\\n181,CA-2014-166191,12/5/2014,12/9/2014,Second Class,DK-13150,David Kendrick,Corporate,United States,Decatur,Illinois,62521,Central,OFF-ST-10003455,Office Supplies,Storage,\"Tenex File Box, Personal Filing Tote with Lid, Black\",24.816,2,0.2,1.8612\\r\\n182,CA-2014-166191,12/5/2014,12/9/2014,Second Class,DK-13150,David Kendrick,Corporate,United States,Decatur,Illinois,62521,Central,TEC-AC-10004659,Technology,Accessories,Imation\\xa0Secure+ Hardware Encrypted USB 2.0\\xa0Flash Drive; 16GB,408.744,7,0.2,76.6395\\r\\n183,CA-2014-158274,11/19/2014,11/24/2014,Second Class,RM-19675,Robert Marley,Home Office,United States,Monroe,Louisiana,71203,South,TEC-PH-10003273,Technology,Phones,AT&T TR1909W,503.96,4,0,131.0296\\r\\n184,CA-2014-158274,11/19/2014,11/24/2014,Second Class,RM-19675,Robert Marley,Home Office,United States,Monroe,Louisiana,71203,South,TEC-PH-10004896,Technology,Phones,Nokia Lumia 521 (T-Mobile),149.95,5,0,41.986\\r\\n185,CA-2014-158274,11/19/2014,11/24/2014,Second Class,RM-19675,Robert Marley,Home Office,United States,Monroe,Louisiana,71203,South,TEC-AC-10002345,Technology,Accessories,HP Standard 104 key PS/2 Keyboard,29,2,0,7.25\\r\\n186,CA-2016-105018,11/28/2016,12/2/2016,Standard Class,SK-19990,Sally Knutson,Consumer,United States,Fairfield,Connecticut,6824,East,OFF-BI-10001890,Office Supplies,Binders,Avery Poly Binder Pockets,7.16,2,0,3.4368\\r\\n187,CA-2014-123260,8/26/2014,8/30/2014,Standard Class,FM-14290,Frank Merwin,Home Office,United States,Los Angeles,California,90032,West,TEC-AC-10002323,Technology,Accessories,SanDisk Ultra 32 GB MicroSDHC Class 10 Memory Card,176.8,8,0,22.984\\r\\n188,CA-2016-157000,7/16/2016,7/22/2016,Standard Class,AM-10360,Alice McCarthy,Corporate,United States,Grand Prairie,Texas,75051,Central,OFF-ST-10001328,Office Supplies,Storage,\"Personal Filing Tote with Lid, Black/Gray\",37.224,3,0.2,3.7224\\r\\n189,CA-2016-157000,7/16/2016,7/22/2016,Standard Class,AM-10360,Alice McCarthy,Corporate,United States,Grand Prairie,Texas,75051,Central,OFF-PA-10001950,Office Supplies,Paper,Southworth 25% Cotton Antique Laid Paper & Envelopes,20.016,3,0.2,6.255\\r\\n190,CA-2015-102281,10/12/2015,10/14/2015,First Class,MP-17470,Mark Packer,Home Office,United States,New York City,New York,10035,East,FUR-BO-10002613,Furniture,Bookcases,\"Atlantic Metals Mobile 4-Shelf Bookcases, Custom Colors\",899.136,4,0.2,112.392\\r\\n191,CA-2015-102281,10/12/2015,10/14/2015,First Class,MP-17470,Mark Packer,Home Office,United States,New York City,New York,10035,East,TEC-PH-10001552,Technology,Phones,I Need\\'s 3d Hello Kitty Hybrid Silicone Case Cover for HTC One X 4g with 3d Hello Kitty Stylus Pen Green/pink,71.76,6,0,20.0928\\r\\n192,CA-2015-102281,10/12/2015,10/14/2015,First Class,MP-17470,Mark Packer,Home Office,United States,New York City,New York,10035,East,OFF-PA-10000061,Office Supplies,Paper,Xerox 205,51.84,8,0,24.8832\\r\\n193,CA-2015-102281,10/12/2015,10/14/2015,First Class,MP-17470,Mark Packer,Home Office,United States,New York City,New York,10035,East,FUR-BO-10002545,Furniture,Bookcases,\"Atlantic Metals Mobile 3-Shelf Bookcases, Custom Colors\",626.352,3,0.2,46.9764\\r\\n194,CA-2015-102281,10/12/2015,10/14/2015,First Class,MP-17470,Mark Packer,Home Office,United States,New York City,New York,10035,East,OFF-AR-10003514,Office Supplies,Art,4009 Highlighters by Sanford,19.9,5,0,6.567\\r\\n195,CA-2015-131457,10/31/2015,11/6/2015,Standard Class,MZ-17515,Mary Zewe,Corporate,United States,Redlands,California,92374,West,OFF-EN-10001509,Office Supplies,Envelopes,Poly String Tie Envelopes,14.28,7,0,6.7116\\r\\n196,CA-2014-140004,3/21/2014,3/25/2014,Standard Class,CB-12025,Cassandra Brandow,Consumer,United States,Hamilton,Ohio,45011,East,OFF-AR-10004685,Office Supplies,Art,\"Binney & Smith Crayola Metallic Colored Pencils, 8-Color Set\",7.408,2,0.2,1.2038\\r\\n197,CA-2014-140004,3/21/2014,3/25/2014,Standard Class,CB-12025,Cassandra Brandow,Consumer,United States,Hamilton,Ohio,45011,East,OFF-AR-10004027,Office Supplies,Art,\"Binney & Smith inkTank Erasable Desk Highlighter, Chisel Tip, Yellow, 12/Box\",6.048,3,0.2,1.5876\\r\\n198,CA-2017-107720,11/6/2017,11/13/2017,Standard Class,VM-21685,Valerie Mitchum,Home Office,United States,Westfield,New Jersey,7090,East,OFF-ST-10001414,Office Supplies,Storage,Decoflex Hanging Personal Folder File,46.26,3,0,12.0276\\r\\n199,US-2017-124303,7/6/2017,7/13/2017,Standard Class,FH-14365,Fred Hopkins,Corporate,United States,Philadelphia,Pennsylvania,19120,East,OFF-BI-10000343,Office Supplies,Binders,\"Pressboard Covers with Storage Hooks, 9 1/2\"\" x 11\"\", Light Blue\",2.946,2,0.7,-2.2586\\r\\n200,US-2017-124303,7/6/2017,7/13/2017,Standard Class,FH-14365,Fred Hopkins,Corporate,United States,Philadelphia,Pennsylvania,19120,East,OFF-PA-10002749,Office Supplies,Paper,\"Wirebound Message Books, 5-1/2 x 4 Forms, 2 or 4 Forms per Page\",16.056,3,0.2,5.8203\\r\\n201,CA-2017-105074,6/24/2017,6/29/2017,Standard Class,MB-17305,Maria Bertelson,Consumer,United States,Akron,Ohio,44312,East,OFF-PA-10002666,Office Supplies,Paper,Southworth 25% Cotton Linen-Finish Paper & Envelopes,21.744,3,0.2,6.795\\r\\n202,CA-2014-133690,8/3/2014,8/5/2014,First Class,BS-11755,Bruce Stewart,Consumer,United States,Denver,Colorado,80219,West,FUR-TA-10004289,Furniture,Tables,BoxOffice By Design Rectangular and Half-Moon Meeting Room Tables,218.75,2,0.5,-161.875\\r\\n203,CA-2014-133690,8/3/2014,8/5/2014,First Class,BS-11755,Bruce Stewart,Consumer,United States,Denver,Colorado,80219,West,OFF-AP-10003622,Office Supplies,Appliances,\"Bravo II Megaboss 12-Amp Hard Body Upright, Replacement Belts, 2 Belts per Pack\",2.6,1,0.2,0.2925\\r\\n204,US-2017-116701,12/17/2017,12/21/2017,Second Class,LC-17140,Logan Currie,Consumer,United States,Dallas,Texas,75220,Central,OFF-AP-10003217,Office Supplies,Appliances,Eureka Sanitaire  Commercial Upright,66.284,2,0.8,-178.9668\\r\\n205,CA-2017-126382,6/3/2017,6/7/2017,Standard Class,HK-14890,Heather Kirkland,Corporate,United States,Franklin,Tennessee,37064,South,FUR-FU-10002960,Furniture,Furnishings,\"Eldon 200 Class Desk Accessories, Burgundy\",35.168,7,0.2,9.6712\\r\\n206,CA-2017-108329,12/9/2017,12/14/2017,Standard Class,LE-16810,Laurel Elliston,Consumer,United States,Whittier,California,90604,West,TEC-PH-10001918,Technology,Phones,Nortel Business Series Terminal T7208 Digital phone,444.768,4,0.2,44.4768\\r\\n207,CA-2017-135860,12/1/2017,12/7/2017,Standard Class,JH-15985,Joseph Holt,Consumer,United States,Saginaw,Michigan,48601,Central,OFF-ST-10000642,Office Supplies,Storage,\"Tennsco Lockers, Gray\",83.92,4,0,5.8744\\r\\n208,CA-2017-135860,12/1/2017,12/7/2017,Standard Class,JH-15985,Joseph Holt,Consumer,United States,Saginaw,Michigan,48601,Central,TEC-PH-10001700,Technology,Phones,Panasonic KX-TG6844B Expandable Digital Cordless Telephone,131.98,2,0,35.6346\\r\\n209,CA-2017-135860,12/1/2017,12/7/2017,Standard Class,JH-15985,Joseph Holt,Consumer,United States,Saginaw,Michigan,48601,Central,OFF-BI-10003274,Office Supplies,Binders,\"Avery Durable Slant Ring Binders, No Labels\",15.92,4,0,7.4824\\r\\n210,CA-2017-135860,12/1/2017,12/7/2017,Standard Class,JH-15985,Joseph Holt,Consumer,United States,Saginaw,Michigan,48601,Central,OFF-FA-10000134,Office Supplies,Fasteners,\"Advantus Push Pins, Aluminum Head\",52.29,9,0,16.2099\\r\\n211,CA-2017-135860,12/1/2017,12/7/2017,Standard Class,JH-15985,Joseph Holt,Consumer,United States,Saginaw,Michigan,48601,Central,OFF-ST-10001522,Office Supplies,Storage,\"Gould Plastics 18-Pocket Panel Bin, 34w x 5-1/4d x 20-1/2h\",91.99,1,0,3.6796\\r\\n212,CA-2015-101007,2/9/2015,2/13/2015,Second Class,MS-17980,Michael Stewart,Corporate,United States,Dallas,Texas,75220,Central,TEC-AC-10001266,Technology,Accessories,Memorex Micro Travel Drive 8 GB,20.8,2,0.2,6.5\\r\\n213,CA-2015-146262,1/2/2015,1/9/2015,Standard Class,VW-21775,Victoria Wilson,Corporate,United States,Medina,Ohio,44256,East,OFF-LA-10004544,Office Supplies,Labels,Avery 505,23.68,2,0.2,8.88\\r\\n214,CA-2015-146262,1/2/2015,1/9/2015,Standard Class,VW-21775,Victoria Wilson,Corporate,United States,Medina,Ohio,44256,East,FUR-BO-10004695,Furniture,Bookcases,O\\'Sullivan 2-Door Barrister Bookcase in Odessa Pine,452.45,5,0.5,-244.323\\r\\n215,CA-2015-146262,1/2/2015,1/9/2015,Standard Class,VW-21775,Victoria Wilson,Corporate,United States,Medina,Ohio,44256,East,TEC-PH-10002844,Technology,Phones,Speck Products Candyshell Flip Case,62.982,3,0.4,-14.6958\\r\\n216,CA-2015-146262,1/2/2015,1/9/2015,Standard Class,VW-21775,Victoria Wilson,Corporate,United States,Medina,Ohio,44256,East,TEC-MA-10000864,Technology,Machines,Cisco 9971 IP Video Phone Charcoal,1188,9,0.7,-950.4\\r\\n217,CA-2015-146262,1/2/2015,1/9/2015,Standard Class,VW-21775,Victoria Wilson,Corporate,United States,Medina,Ohio,44256,East,TEC-AC-10000109,Technology,Accessories,Sony Micro Vault Click 16 GB USB 2.0 Flash Drive,89.584,2,0.2,4.4792\\r\\n218,CA-2016-130162,10/28/2016,11/1/2016,Standard Class,JH-15910,Jonathan Howell,Consumer,United States,Los Angeles,California,90032,West,OFF-ST-10001328,Office Supplies,Storage,\"Personal Filing Tote with Lid, Black/Gray\",93.06,6,0,26.0568\\r\\n219,CA-2016-130162,10/28/2016,11/1/2016,Standard Class,JH-15910,Jonathan Howell,Consumer,United States,Los Angeles,California,90032,West,TEC-PH-10002563,Technology,Phones,Adtran 1202752G1,302.376,3,0.2,22.6782\\r\\n220,CA-2015-169397,12/24/2015,12/27/2015,First Class,JB-15925,Joni Blumstein,Consumer,United States,Dublin,Ohio,43017,East,OFF-FA-10000585,Office Supplies,Fasteners,OIC Bulk Pack Metal Binder Clips,5.584,2,0.2,1.8148\\r\\n221,CA-2015-169397,12/24/2015,12/27/2015,First Class,JB-15925,Joni Blumstein,Consumer,United States,Dublin,Ohio,43017,East,OFF-PA-10004000,Office Supplies,Paper,\"While You Were Out Pads, 50 per Pad, 4 x 5 1/4, Green Cycle\",22.704,6,0.2,8.2302\\r\\n222,CA-2015-169397,12/24/2015,12/27/2015,First Class,JB-15925,Joni Blumstein,Consumer,United States,Dublin,Ohio,43017,East,OFF-BI-10002852,Office Supplies,Binders,Ibico Standard Transparent Covers,19.776,4,0.7,-13.8432\\r\\n223,CA-2015-169397,12/24/2015,12/27/2015,First Class,JB-15925,Joni Blumstein,Consumer,United States,Dublin,Ohio,43017,East,FUR-FU-10000087,Furniture,Furnishings,\"Executive Impressions 14\"\" Two-Color Numerals Wall Clock\",72.704,4,0.2,19.0848\\r\\n224,CA-2015-169397,12/24/2015,12/27/2015,First Class,JB-15925,Joni Blumstein,Consumer,United States,Dublin,Ohio,43017,East,TEC-MA-10001148,Technology,Machines,Swingline SM12-08 MicroCut Jam Free Shredder,479.988,4,0.7,-383.9904\\r\\n225,CA-2015-169397,12/24/2015,12/27/2015,First Class,JB-15925,Joni Blumstein,Consumer,United States,Dublin,Ohio,43017,East,OFF-AR-10001958,Office Supplies,Art,Stanley Bostitch Contemporary Electric Pencil Sharpeners,27.168,2,0.2,2.7168\\r\\n226,CA-2015-163055,8/9/2015,8/16/2015,Standard Class,DS-13180,David Smith,Corporate,United States,Detroit,Michigan,48227,Central,OFF-AR-10001026,Office Supplies,Art,\"Sanford Uni-Blazer View Highlighters, Chisel Tip, Yellow\",2.2,1,0,0.968\\r\\n227,CA-2015-163055,8/9/2015,8/16/2015,Standard Class,DS-13180,David Smith,Corporate,United States,Detroit,Michigan,48227,Central,FUR-TA-10003748,Furniture,Tables,Bevis 36 x 72 Conference Tables,622.45,5,0,136.939\\r\\n228,CA-2015-163055,8/9/2015,8/16/2015,Standard Class,DS-13180,David Smith,Corporate,United States,Detroit,Michigan,48227,Central,OFF-ST-10002485,Office Supplies,Storage,Rogers Deluxe File Chest,21.98,1,0,0.2198\\r\\n229,US-2015-145436,2/28/2015,3/4/2015,Standard Class,VD-21670,Valerie Dominguez,Consumer,United States,Columbia,Tennessee,38401,South,FUR-CH-10004860,Furniture,Chairs,Global Low Back Tilter Chair,161.568,2,0.2,-28.2744\\r\\n230,US-2015-145436,2/28/2015,3/4/2015,Standard Class,VD-21670,Valerie Dominguez,Consumer,United States,Columbia,Tennessee,38401,South,FUR-CH-10004477,Furniture,Chairs,\"Global Push Button Manager\\'s Chair, Indigo\",389.696,8,0.2,43.8408\\r\\n231,US-2014-156216,9/13/2014,9/17/2014,Standard Class,EA-14035,Erin Ashbrook,Corporate,United States,Charlotte,North Carolina,28205,South,OFF-BI-10001679,Office Supplies,Binders,GBC Instant Index System for Binding Systems,18.648,7,0.7,-12.432\\r\\n232,US-2017-100930,4/7/2017,4/12/2017,Standard Class,CS-12400,Christopher Schild,Home Office,United States,Tampa,Florida,33614,South,FUR-TA-10001705,Furniture,Tables,Bush Advantage Collection Round Conference Table,233.86,2,0.45,-102.048\\r\\n233,US-2017-100930,4/7/2017,4/12/2017,Standard Class,CS-12400,Christopher Schild,Home Office,United States,Tampa,Florida,33614,South,FUR-TA-10003473,Furniture,Tables,Bretford Rectangular Conference Table Tops,620.6145,3,0.45,-248.2458\\r\\n234,US-2017-100930,4/7/2017,4/12/2017,Standard Class,CS-12400,Christopher Schild,Home Office,United States,Tampa,Florida,33614,South,OFF-BI-10001679,Office Supplies,Binders,GBC Instant Index System for Binding Systems,5.328,2,0.7,-3.552\\r\\n235,US-2017-100930,4/7/2017,4/12/2017,Standard Class,CS-12400,Christopher Schild,Home Office,United States,Tampa,Florida,33614,South,FUR-FU-10004017,Furniture,Furnishings,\"Tenex Contemporary Contur Chairmats for Low and Medium Pile Carpet, Computer, 39\"\" x 49\"\"\",258.072,3,0.2,0\\r\\n236,US-2017-100930,4/7/2017,4/12/2017,Standard Class,CS-12400,Christopher Schild,Home Office,United States,Tampa,Florida,33614,South,TEC-AC-10003832,Technology,Accessories,Logitech\\xa0P710e Mobile Speakerphone,617.976,3,0.2,-7.7247\\r\\n237,CA-2017-160514,11/12/2017,11/16/2017,Standard Class,DB-13120,David Bremer,Corporate,United States,Santa Clara,California,95051,West,OFF-PA-10002479,Office Supplies,Paper,Xerox 4200 Series MultiUse Premium Copy Paper (20Lb. and 84 Bright),10.56,2,0,4.752\\r\\n238,CA-2016-157749,6/4/2016,6/9/2016,Second Class,KL-16645,Ken Lonsdale,Consumer,United States,Chicago,Illinois,60610,Central,OFF-PA-10003349,Office Supplies,Paper,Xerox 1957,25.92,5,0.2,9.396\\r\\n239,CA-2016-157749,6/4/2016,6/9/2016,Second Class,KL-16645,Ken Lonsdale,Consumer,United States,Chicago,Illinois,60610,Central,FUR-FU-10000576,Furniture,Furnishings,Luxo Professional Fluorescent Magnifier Lamp with Clamp-Mount Base,419.68,5,0.6,-356.728\\r\\n240,CA-2016-157749,6/4/2016,6/9/2016,Second Class,KL-16645,Ken Lonsdale,Consumer,United States,Chicago,Illinois,60610,Central,FUR-FU-10004351,Furniture,Furnishings,Staple-based wall hangings,11.688,3,0.6,-4.6752\\r\\n241,CA-2016-157749,6/4/2016,6/9/2016,Second Class,KL-16645,Ken Lonsdale,Consumer,United States,Chicago,Illinois,60610,Central,TEC-PH-10000011,Technology,Phones,PureGear Roll-On Screen Protector,31.984,2,0.2,11.1944\\r\\n242,CA-2016-157749,6/4/2016,6/9/2016,Second Class,KL-16645,Ken Lonsdale,Consumer,United States,Chicago,Illinois,60610,Central,FUR-TA-10002607,Furniture,Tables,KI Conference Tables,177.225,5,0.5,-120.513\\r\\n243,CA-2016-157749,6/4/2016,6/9/2016,Second Class,KL-16645,Ken Lonsdale,Consumer,United States,Chicago,Illinois,60610,Central,FUR-FU-10002505,Furniture,Furnishings,Eldon 100 Class Desk Accessories,4.044,3,0.6,-2.8308\\r\\n244,CA-2016-157749,6/4/2016,6/9/2016,Second Class,KL-16645,Ken Lonsdale,Consumer,United States,Chicago,Illinois,60610,Central,OFF-AR-10004685,Office Supplies,Art,\"Binney & Smith Crayola Metallic Colored Pencils, 8-Color Set\",7.408,2,0.2,1.2038\\r\\n245,CA-2014-131926,6/1/2014,6/6/2014,Second Class,DW-13480,Dianna Wilson,Home Office,United States,Lakeville,Minnesota,55044,Central,FUR-CH-10004063,Furniture,Chairs,Global Deluxe High-Back Manager\\'s Chair,2001.86,7,0,580.5394\\r\\n246,CA-2014-131926,6/1/2014,6/6/2014,Second Class,DW-13480,Dianna Wilson,Home Office,United States,Lakeville,Minnesota,55044,Central,OFF-ST-10002276,Office Supplies,Storage,Safco Steel Mobile File Cart,166.72,2,0,41.68\\r\\n247,CA-2014-131926,6/1/2014,6/6/2014,Second Class,DW-13480,Dianna Wilson,Home Office,United States,Lakeville,Minnesota,55044,Central,OFF-PA-10004082,Office Supplies,Paper,\"Adams Telephone Message Book w/Frequently-Called Numbers Space, 400 Messages per Book\",47.88,6,0,23.94\\r\\n248,CA-2014-131926,6/1/2014,6/6/2014,Second Class,DW-13480,Dianna Wilson,Home Office,United States,Lakeville,Minnesota,55044,Central,OFF-AP-10002945,Office Supplies,Appliances,Honeywell Enviracaire Portable HEPA Air Cleaner for 17\\' x 22\\' Room,1503.25,5,0,496.0725\\r\\n249,CA-2014-131926,6/1/2014,6/6/2014,Second Class,DW-13480,Dianna Wilson,Home Office,United States,Lakeville,Minnesota,55044,Central,OFF-PA-10000061,Office Supplies,Paper,Xerox 205,25.92,4,0,12.4416\\r\\n250,CA-2016-154739,12/10/2016,12/15/2016,Second Class,LH-17155,Logan Haushalter,Consumer,United States,San Francisco,California,94109,West,FUR-CH-10002965,Furniture,Chairs,\"Global Leather Highback Executive Chair with Pneumatic Height Adjustment, Black\",321.568,2,0.2,28.1372\\r\\n251,CA-2016-145625,9/11/2016,9/17/2016,Standard Class,KC-16540,Kelly Collister,Consumer,United States,San Diego,California,92037,West,OFF-PA-10004569,Office Supplies,Paper,\"Wirebound Message Books, Two 4 1/4\"\" x 5\"\" Forms per Page\",7.61,1,0,3.5767\\r\\n252,CA-2016-145625,9/11/2016,9/17/2016,Standard Class,KC-16540,Kelly Collister,Consumer,United States,San Diego,California,92037,West,TEC-AC-10003832,Technology,Accessories,Logitech\\xa0P710e Mobile Speakerphone,3347.37,13,0,636.0003\\r\\n253,CA-2016-146941,12/10/2016,12/13/2016,First Class,DL-13315,Delfina Latchford,Consumer,United States,New York City,New York,10024,East,OFF-ST-10001228,Office Supplies,Storage,\"Fellowes Personal Hanging Folder Files, Navy\",80.58,6,0,22.5624\\r\\n254,CA-2016-146941,12/10/2016,12/13/2016,First Class,DL-13315,Delfina Latchford,Consumer,United States,New York City,New York,10024,East,OFF-EN-10003296,Office Supplies,Envelopes,Tyvek Side-Opening Peel & Seel Expanding Envelopes,361.92,4,0,162.864\\r\\n255,US-2015-159982,11/28/2015,12/4/2015,Standard Class,DR-12880,Dan Reichenbach,Corporate,United States,Chicago,Illinois,60623,Central,FUR-FU-10002505,Furniture,Furnishings,Eldon 100 Class Desk Accessories,12.132,9,0.6,-8.4924\\r\\n256,US-2015-159982,11/28/2015,12/4/2015,Standard Class,DR-12880,Dan Reichenbach,Corporate,United States,Chicago,Illinois,60623,Central,OFF-ST-10004804,Office Supplies,Storage,\"Belkin 19\"\" Vented Equipment Shelf, Black\",82.368,2,0.2,-19.5624\\r\\n257,US-2015-159982,11/28/2015,12/4/2015,Standard Class,DR-12880,Dan Reichenbach,Corporate,United States,Chicago,Illinois,60623,Central,OFF-ST-10001590,Office Supplies,Storage,\"Tenex Personal Project File with Scoop Front Design, Black\",53.92,5,0.2,4.044\\r\\n258,US-2015-159982,11/28/2015,12/4/2015,Standard Class,DR-12880,Dan Reichenbach,Corporate,United States,Chicago,Illinois,60623,Central,TEC-PH-10001580,Technology,Phones,Logitech Mobile Speakerphone P710e -\\xa0speaker phone,647.904,6,0.2,56.6916\\r\\n259,CA-2017-163139,12/1/2017,12/3/2017,Second Class,CC-12670,Craig Carreira,Consumer,United States,New York City,New York,10009,East,TEC-AC-10000290,Technology,Accessories,Sabrent 4-Port USB 2.0 Hub,20.37,3,0,6.9258\\r\\n260,CA-2017-163139,12/1/2017,12/3/2017,Second Class,CC-12670,Craig Carreira,Consumer,United States,New York City,New York,10009,East,OFF-ST-10002790,Office Supplies,Storage,Safco Industrial Shelving,221.55,3,0,6.6465\\r\\n261,CA-2017-163139,12/1/2017,12/3/2017,Second Class,CC-12670,Craig Carreira,Consumer,United States,New York City,New York,10009,East,OFF-BI-10003460,Office Supplies,Binders,Acco 3-Hole Punch,17.52,5,0.2,6.132\\r\\n262,US-2017-155299,6/8/2017,6/12/2017,Standard Class,Dl-13600,Dorris liebe,Corporate,United States,Pasadena,Texas,77506,Central,OFF-AP-10002203,Office Supplies,Appliances,Eureka Disposable Bags for Sanitaire Vibra Groomer I Upright Vac,1.624,2,0.8,-4.466\\r\\n263,US-2014-106992,9/19/2014,9/21/2014,Second Class,SB-20290,Sean Braxton,Corporate,United States,Houston,Texas,77036,Central,TEC-MA-10000822,Technology,Machines,Lexmark MX611dhe Monochrome Laser Printer,3059.982,3,0.4,-509.997\\r\\n264,US-2014-106992,9/19/2014,9/21/2014,Second Class,SB-20290,Sean Braxton,Corporate,United States,Houston,Texas,77036,Central,TEC-MA-10003353,Technology,Machines,Xerox WorkCentre 6505DN Laser Multifunction Printer,2519.958,7,0.4,-251.9958\\r\\n265,CA-2016-125318,6/6/2016,6/13/2016,Standard Class,RC-19825,Roy Collins,Consumer,United States,Chicago,Illinois,60610,Central,TEC-PH-10001433,Technology,Phones,Cisco Small Business SPA 502G VoIP phone,328.224,4,0.2,28.7196\\r\\n266,CA-2015-155040,11/10/2015,11/15/2015,Standard Class,AH-10210,Alan Hwang,Consumer,United States,Brentwood,California,94513,West,TEC-AC-10004469,Technology,Accessories,Microsoft Sculpt Comfort Mouse,79.9,2,0,35.156\\r\\n267,CA-2017-136826,6/16/2017,6/20/2017,Standard Class,CB-12535,Claudia Bergmann,Corporate,United States,Chapel Hill,North Carolina,27514,South,OFF-AR-10003602,Office Supplies,Art,\"Quartet Omega Colored Chalk, 12/Pack\",14.016,3,0.2,4.7304\\r\\n268,CA-2016-111010,1/22/2016,1/28/2016,Standard Class,PG-18895,Paul Gonzalez,Consumer,United States,Morristown,New Jersey,7960,East,OFF-FA-10003472,Office Supplies,Fasteners,Bagged Rubber Bands,7.56,6,0,0.3024\\r\\n269,US-2017-145366,12/9/2017,12/13/2017,Standard Class,CA-12310,Christine Abelman,Corporate,United States,Cincinnati,Ohio,45231,East,OFF-ST-10004180,Office Supplies,Storage,Safco Commercial Shelving,37.208,1,0.2,-7.4416\\r\\n270,US-2017-145366,12/9/2017,12/13/2017,Standard Class,CA-12310,Christine Abelman,Corporate,United States,Cincinnati,Ohio,45231,East,OFF-EN-10004386,Office Supplies,Envelopes,\"Recycled Interoffice Envelopes with String and Button Closure, 10 x 13\",57.576,3,0.2,21.591\\r\\n271,CA-2017-163979,12/28/2017,1/2/2018,Second Class,KH-16690,Kristen Hastings,Corporate,United States,San Francisco,California,94110,West,OFF-ST-10003208,Office Supplies,Storage,Adjustable Depth Letter/Legal Cart,725.84,4,0,210.4936\\r\\n272,CA-2015-155334,7/30/2015,7/31/2015,First Class,HA-14920,Helen Andreada,Consumer,United States,San Francisco,California,94109,West,TEC-AC-10003628,Technology,Accessories,Logitech 910-002974 M325 Wireless Mouse for Web Scrolling,209.93,7,0,92.3692\\r\\n273,CA-2015-155334,7/30/2015,7/31/2015,First Class,HA-14920,Helen Andreada,Consumer,United States,San Francisco,California,94109,West,FUR-FU-10003274,Furniture,Furnishings,Regeneration Desk Collection,5.28,3,0,2.3232\\r\\n274,CA-2015-155334,7/30/2015,7/31/2015,First Class,HA-14920,Helen Andreada,Consumer,United States,San Francisco,California,94109,West,OFF-BI-10002557,Office Supplies,Binders,Presstex Flexible Ring Binders,10.92,3,0.2,4.095\\r\\n275,CA-2017-118136,9/16/2017,9/17/2017,First Class,BB-10990,Barry Blumstein,Corporate,United States,Inglewood,California,90301,West,OFF-PA-10002615,Office Supplies,Paper,\"Ampad Gold Fibre Wirebound Steno Books, 6\"\" x 9\"\", Gregg Ruled\",8.82,2,0,4.0572\\r\\n276,CA-2017-118136,9/16/2017,9/17/2017,First Class,BB-10990,Barry Blumstein,Corporate,United States,Inglewood,California,90301,West,OFF-AR-10001427,Office Supplies,Art,Newell 330,5.98,1,0,1.5548\\r\\n277,CA-2017-132976,10/13/2017,10/17/2017,Standard Class,AG-10495,Andrew Gjertsen,Corporate,United States,Philadelphia,Pennsylvania,19140,East,OFF-PA-10000673,Office Supplies,Paper,\"Post-it “Important Message” Note Pad, Neon Colors, 50 Sheets/Pad\",11.648,2,0.2,4.0768\\r\\n278,CA-2017-132976,10/13/2017,10/17/2017,Standard Class,AG-10495,Andrew Gjertsen,Corporate,United States,Philadelphia,Pennsylvania,19140,East,OFF-PA-10004470,Office Supplies,Paper,\"Adams Write n\\' Stick Phone Message Book, 11\"\" X 5 1/4\"\", 200 Messages\",18.176,4,0.2,5.9072\\r\\n279,CA-2017-132976,10/13/2017,10/17/2017,Standard Class,AG-10495,Andrew Gjertsen,Corporate,United States,Philadelphia,Pennsylvania,19140,East,OFF-ST-10000876,Office Supplies,Storage,Eldon Simplefile Box Office,59.712,6,0.2,5.9712\\r\\n280,CA-2017-132976,10/13/2017,10/17/2017,Standard Class,AG-10495,Andrew Gjertsen,Corporate,United States,Philadelphia,Pennsylvania,19140,East,OFF-LA-10002043,Office Supplies,Labels,Avery 489,24.84,3,0.2,8.694\\r\\n281,US-2015-161991,9/26/2015,9/28/2015,Second Class,SC-20725,Steven Cartwright,Consumer,United States,Houston,Texas,77070,Central,OFF-BI-10004967,Office Supplies,Binders,Round Ring Binders,2.08,5,0.8,-3.432\\r\\n282,US-2015-161991,9/26/2015,9/28/2015,Second Class,SC-20725,Steven Cartwright,Consumer,United States,Houston,Texas,77070,Central,TEC-PH-10001760,Technology,Phones,Bose SoundLink Bluetooth Speaker,11'"
     ]
    }
   ],
   "source": [
    "archivo = path + '/bronce/data.csv'\n",
    "dbutils.fs.head(archivo)"
   ]
  },
  {
   "cell_type": "code",
   "execution_count": null,
   "metadata": {
    "application/vnd.databricks.v1+cell": {
     "cellMetadata": {},
     "inputWidgets": {},
     "nuid": "23c9f217-4c1c-40f7-8c25-f6eca183c7fd",
     "showTitle": true,
     "title": "Eliminar Archivos"
    }
   },
   "outputs": [],
   "source": [
    "dbutils.fs.rm(archivo, recursive=True)"
   ]
  },
  {
   "cell_type": "markdown",
   "metadata": {
    "application/vnd.databricks.v1+cell": {
     "cellMetadata": {},
     "inputWidgets": {},
     "nuid": "748e40d2-8248-46f6-ba36-56e4241a2751",
     "showTitle": false,
     "title": ""
    }
   },
   "source": [
    "### dbutils.widgets\n",
    "Permite crear y trabajar con widgets interactivos en los notebooks."
   ]
  },
  {
   "cell_type": "code",
   "execution_count": null,
   "metadata": {
    "application/vnd.databricks.v1+cell": {
     "cellMetadata": {
      "byteLimit": 2048000,
      "rowLimit": 10000
     },
     "inputWidgets": {},
     "nuid": "6acfc61b-9fcf-4e8b-a7cf-fc4af65aef7e",
     "showTitle": true,
     "title": "widget de texto con un nombre, valor predeterminado y etiqueta."
    }
   },
   "outputs": [
    {
     "name": "stdout",
     "output_type": "stream",
     "text": [
      "Out[11]: 20000.0"
     ]
    }
   ],
   "source": [
    "# Definición de los widgets\n",
    "dbutils.widgets.text('superficie_input', '100', 'Superficie de la vivienda')\n",
    "\n",
    "# Lectura del valor del widget\n",
    "superficie_input = float(dbutils.widgets.get('superficie_input'))\n",
    "\n",
    "superficie_input"
   ]
  },
  {
   "cell_type": "code",
   "execution_count": null,
   "metadata": {
    "application/vnd.databricks.v1+cell": {
     "cellMetadata": {
      "byteLimit": 2048000,
      "rowLimit": 10000
     },
     "inputWidgets": {},
     "nuid": "4cd521af-8660-4ce0-8b13-0b70d38b971f",
     "showTitle": true,
     "title": "Crea un widget de lista desplegable con un nombre, valor predeterminado, lista de valores y etiqueta."
    }
   },
   "outputs": [],
   "source": [
    "# Definición de los widgets\n",
    "algoritmos = ['Logistic Regression', 'Naive Bayes']\n",
    "dbutils.widgets.dropdown('algoritmo_input', 'Logistic Regression', algoritmos, 'Algoritmo de PLN')"
   ]
  },
  {
   "cell_type": "code",
   "execution_count": null,
   "metadata": {
    "application/vnd.databricks.v1+cell": {
     "cellMetadata": {
      "byteLimit": 2048000,
      "rowLimit": 10000
     },
     "inputWidgets": {},
     "nuid": "8c57db9e-ee9d-4531-bdba-524b0d3b2cf7",
     "showTitle": false,
     "title": ""
    }
   },
   "outputs": [
    {
     "name": "stdout",
     "output_type": "stream",
     "text": [
      "Out[14]: 'Naive Bayes'"
     ]
    }
   ],
   "source": [
    "# Lectura del valor del widget\n",
    "algoritmo_input = dbutils.widgets.get('algoritmo_input')\n",
    "algoritmo_input"
   ]
  },
  {
   "cell_type": "markdown",
   "metadata": {
    "application/vnd.databricks.v1+cell": {
     "cellMetadata": {},
     "inputWidgets": {},
     "nuid": "f7493712-8451-4172-86d2-17eaea96c8ca",
     "showTitle": false,
     "title": ""
    }
   },
   "source": [
    "### dbutils.notebook\n",
    "Proporciona funciones para interactuar con otros notebooks en Databricks."
   ]
  },
  {
   "cell_type": "code",
   "execution_count": null,
   "metadata": {
    "application/vnd.databricks.v1+cell": {
     "cellMetadata": {},
     "inputWidgets": {},
     "nuid": "9f923212-8721-4f24-b008-28e327dec5bc",
     "showTitle": true,
     "title": " Ejecuta otro notebook en la ruta especificada y espera su finalización"
    }
   },
   "outputs": [],
   "source": [
    "path_notebook = ''\n",
    "timeoutSeconds = 600\n",
    "dbutils.notebook.run(path_notebook, timeoutSeconds)"
   ]
  },
  {
   "cell_type": "code",
   "execution_count": null,
   "metadata": {
    "application/vnd.databricks.v1+cell": {
     "cellMetadata": {},
     "inputWidgets": {},
     "nuid": "02d78836-22fa-4df1-a164-eae2441306ac",
     "showTitle": true,
     "title": "Finaliza la ejecución del notebook actual y devuelve un resultado opcional."
    }
   },
   "outputs": [],
   "source": [
    "dbutils.notebook.exit(result)"
   ]
  },
  {
   "cell_type": "markdown",
   "metadata": {
    "application/vnd.databricks.v1+cell": {
     "cellMetadata": {},
     "inputWidgets": {},
     "nuid": "8c180a22-c723-4ecc-bc74-c7ffc3404ae9",
     "showTitle": false,
     "title": ""
    }
   },
   "source": [
    "### dbutils.help\n",
    "Puedes explorar más funciones y obtener información detallada en la documentación oficial de Databricks o utilizando el comando"
   ]
  },
  {
   "cell_type": "code",
   "execution_count": null,
   "metadata": {
    "application/vnd.databricks.v1+cell": {
     "cellMetadata": {
      "byteLimit": 2048000,
      "rowLimit": 10000
     },
     "inputWidgets": {},
     "nuid": "af801ea0-17eb-4a32-ac00-491718f0e274",
     "showTitle": false,
     "title": ""
    }
   },
   "outputs": [
    {
     "data": {
      "text/html": [
       "<div class = \"ansiout\">\n",
       "This module provides various utilities for users to interact with the rest of Databricks.\n",
       "  <h3></h3><b>credentials: DatabricksCredentialUtils</b> -> Utilities for interacting with credentials within notebooks<br /><b>data: DataUtils</b> -> Utilities for understanding and interacting with datasets (EXPERIMENTAL)<br /><b>fs: DbfsUtils</b> -> Manipulates the Databricks filesystem (DBFS) from the console<br /><b>jobs: JobsUtils</b> -> Utilities for leveraging jobs features<br /><b>library: LibraryUtils</b> -> Utilities for session isolated libraries<br /><b>meta: MetaUtils</b> -> Methods to hook into the compiler (EXPERIMENTAL)<br /><b>notebook: NotebookUtils</b> -> Utilities for the control flow of a notebook (EXPERIMENTAL)<br /><b>preview: Preview</b> -> Utilities under preview category<br /><b>secrets: SecretUtils</b> -> Provides utilities for leveraging secrets within notebooks<br /><b>widgets: WidgetsUtils</b> -> Methods to create and get bound value of input widgets inside notebooks<br /><br /></div>"
      ]
     },
     "metadata": {
      "application/vnd.databricks.v1+output": {
       "addedWidgets": {},
       "arguments": {},
       "data": "<div class = \"ansiout\">\nThis module provides various utilities for users to interact with the rest of Databricks.\n  <h3></h3><b>credentials: DatabricksCredentialUtils</b> -> Utilities for interacting with credentials within notebooks<br /><b>data: DataUtils</b> -> Utilities for understanding and interacting with datasets (EXPERIMENTAL)<br /><b>fs: DbfsUtils</b> -> Manipulates the Databricks filesystem (DBFS) from the console<br /><b>jobs: JobsUtils</b> -> Utilities for leveraging jobs features<br /><b>library: LibraryUtils</b> -> Utilities for session isolated libraries<br /><b>meta: MetaUtils</b> -> Methods to hook into the compiler (EXPERIMENTAL)<br /><b>notebook: NotebookUtils</b> -> Utilities for the control flow of a notebook (EXPERIMENTAL)<br /><b>preview: Preview</b> -> Utilities under preview category<br /><b>secrets: SecretUtils</b> -> Provides utilities for leveraging secrets within notebooks<br /><b>widgets: WidgetsUtils</b> -> Methods to create and get bound value of input widgets inside notebooks<br /><br /></div>",
       "datasetInfos": [],
       "metadata": {},
       "removedWidgets": [],
       "textData": null,
       "type": "htmlSandbox"
      }
     },
     "output_type": "display_data"
    }
   ],
   "source": [
    "dbutils.help()"
   ]
  },
  {
   "cell_type": "markdown",
   "metadata": {
    "application/vnd.databricks.v1+cell": {
     "cellMetadata": {},
     "inputWidgets": {},
     "nuid": "93c1c05e-9fd1-4d6f-ac4d-e26e7a3b0dde",
     "showTitle": false,
     "title": ""
    }
   },
   "source": [
    "## spark.read \n",
    "Función de entrada para carga de datos"
   ]
  },
  {
   "cell_type": "markdown",
   "metadata": {
    "application/vnd.databricks.v1+cell": {
     "cellMetadata": {},
     "inputWidgets": {},
     "nuid": "1603eb2b-fb23-4bc4-91a1-da6223963c5e",
     "showTitle": false,
     "title": ""
    }
   },
   "source": [
    "### Lectura de archivos CSV"
   ]
  },
  {
   "cell_type": "code",
   "execution_count": 8,
   "metadata": {
    "application/vnd.databricks.v1+cell": {
     "cellMetadata": {
      "byteLimit": 2048000,
      "rowLimit": 10000
     },
     "inputWidgets": {},
     "nuid": "139a2200-3afe-49d4-97ae-8cab4d03086a",
     "showTitle": false,
     "title": ""
    }
   },
   "outputs": [],
   "source": [
    "from pyspark.sql import SparkSession\n",
    "\n",
    "spark = SparkSession.builder.getOrCreate()\n",
    "\n",
    "# Lectura de un archivo CSV local\n",
    "df_csv = spark.read.csv(path + '/data.csv', header=True, inferSchema=True)\n",
    "\n",
    "# Lectura de un archivo CSV desde una URL\n",
    "#df_csv_url = spark.read.csv('https://example.com/archivo.csv', header=True, inferSchema=True)\n"
   ]
  },
  {
   "cell_type": "markdown",
   "metadata": {
    "application/vnd.databricks.v1+cell": {
     "cellMetadata": {},
     "inputWidgets": {},
     "nuid": "5aefd956-7ad8-4c8a-8cf6-6f91d289cfa8",
     "showTitle": false,
     "title": ""
    }
   },
   "source": [
    "#### heder & inferSchema\n",
    "\n",
    "- header=True: Esta opción se utiliza cuando el archivo de datos contiene una línea de encabezado en la que se encuentran los nombres de las columnas. Al establecer header=True, Spark interpretará la primera línea del archivo como el encabezado y asignará esos nombres a las columnas correspondientes en el DataFrame resultante. Esto facilita el acceso a los datos utilizando nombres de columna descriptivos en lugar de utilizar índices numéricos.\n",
    "\n",
    "- inferSchema=True: Esta opción se utiliza para inferir automáticamente los tipos de datos de cada columna en el DataFrame. Al establecer inferSchema=True, Spark leerá una muestra de los datos y realizará una estimación de los tipos de datos adecuados para cada columna. Esto puede ser útil cuando no se especifica explícitamente el esquema del archivo de datos y se desea que Spark determine automáticamente los tipos de datos más apropiados.\n",
    "\n",
    "Ambas opciones (header e inferSchema) son útiles para simplificar el proceso de lectura de datos y asegurarse de que el DataFrame resultante tenga la estructura y los tipos de datos adecuados para su posterior procesamiento y análisis."
   ]
  },
  {
   "cell_type": "code",
   "execution_count": null,
   "metadata": {
    "application/vnd.databricks.v1+cell": {
     "cellMetadata": {},
     "inputWidgets": {},
     "nuid": "2236fdb9-345b-437a-997e-f675b4c7adc3",
     "showTitle": false,
     "title": ""
    }
   },
   "outputs": [],
   "source": [
    "# Lectura de un archivo JSON local\n",
    "df_json = spark.read.json('/ruta/al/archivo.json')\n",
    "\n",
    "# Lectura de un archivo Parquet local\n",
    "df_parquet = spark.read.parquet('/ruta/al/archivo.parquet')\n",
    "\n",
    "# Lectura de un archivo AVRO local\n",
    "df_avro = spark.read.format('avro').load('/ruta/al/archivo.avro')\n",
    "\n",
    "# Lectura de datos desde un sistema de almacenamiento en la nube (S3)\n",
    "df_s3 = spark.read.csv('s3://bucket/archivo.csv', header=True, inferSchema=True)\n"
   ]
  },
  {
   "cell_type": "markdown",
   "metadata": {
    "application/vnd.databricks.v1+cell": {
     "cellMetadata": {},
     "inputWidgets": {},
     "nuid": "bc83bb99-c619-4eca-a4a8-be61a9642bda",
     "showTitle": false,
     "title": ""
    }
   },
   "source": [
    "### Lectura de bases de datos JDBC"
   ]
  },
  {
   "cell_type": "code",
   "execution_count": null,
   "metadata": {
    "application/vnd.databricks.v1+cell": {
     "cellMetadata": {},
     "inputWidgets": {},
     "nuid": "aed1cf50-9a09-4c06-aaae-e5d86127f011",
     "showTitle": false,
     "title": ""
    }
   },
   "outputs": [],
   "source": [
    "# Definir las opciones de conexión a la base de datos MySQL\n",
    "options = {\n",
    "    \"url\": \"jdbc:mysql://localhost:3306/pysparkdb\",\n",
    "    \"driver\": \"org.mariadb.jdbc.Driver\",\n",
    "    \"dbtable\": \"authors\",\n",
    "    \"user\": \"#####\",\n",
    "    \"password\": \"@@@@@\"\n",
    "}\n",
    "\n",
    "# Leer los datos de la tabla \"authors\" desde la base de datos MySQL\n",
    "dataframe_mysql = spark.read.format(\"jdbc\").options(**options).load()"
   ]
  }
 ],
 "metadata": {
  "application/vnd.databricks.v1+notebook": {
   "dashboards": [],
   "language": "python",
   "notebookMetadata": {
    "pythonIndentUnit": 4,
    "widgetLayout": [
     {
      "breakBefore": false,
      "name": "algoritmo_input",
      "width": 172
     },
     {
      "breakBefore": false,
      "name": "superficie_input",
      "width": 172
     }
    ]
   },
   "notebookName": "2.1.- Carga de datos utilizando PySpark",
   "widgets": {
    "algoritmo_input": {
     "currentValue": "Naive Bayes",
     "nuid": "51db5bf3-a81e-4d90-8fdf-89f30c8682e5",
     "widgetInfo": {
      "defaultValue": "Logistic Regression",
      "label": "Algoritmo de PLN",
      "name": "algoritmo_input",
      "options": {
       "choices": [
        "Logistic Regression",
        "Naive Bayes"
       ],
       "widgetType": "dropdown"
      },
      "widgetType": "dropdown"
     }
    },
    "superficie_input": {
     "currentValue": "20000",
     "nuid": "f86d43d8-f946-49ec-91c5-4ddc0f1fe1da",
     "widgetInfo": {
      "defaultValue": "100",
      "label": "Superficie de la vivienda",
      "name": "superficie_input",
      "options": {
       "validationRegex": null,
       "widgetType": "text"
      },
      "widgetType": "text"
     }
    }
   }
  },
  "kernelspec": {
   "display_name": "Python 3 (ipykernel)",
   "language": "python",
   "name": "python3"
  },
  "language_info": {
   "codemirror_mode": {
    "name": "ipython",
    "version": 3
   },
   "file_extension": ".py",
   "mimetype": "text/x-python",
   "name": "python",
   "nbconvert_exporter": "python",
   "pygments_lexer": "ipython3",
   "version": "3.12.4"
  }
 },
 "nbformat": 4,
 "nbformat_minor": 4
}
